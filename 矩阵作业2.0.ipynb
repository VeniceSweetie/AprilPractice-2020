{
 "cells": [
  {
   "cell_type": "raw",
   "metadata": {},
   "source": [
    "1. 计算范数，并使计算结果更精确。"
   ]
  },
  {
   "cell_type": "code",
   "execution_count": 1,
   "metadata": {},
   "outputs": [
    {
     "name": "stdout",
     "output_type": "stream",
     "text": [
      "当 n = 100 时：\n",
      "x向量的无穷范数为：1.0\n",
      "x向量的1范数为：1.6349839001848931\n",
      "x向量的2范数为：1.0403474925929668\n",
      "y向量的无穷范数为：10000.0\n",
      "y向量的1范数为：338350.0\n",
      "y向量的2范数为：45280.60655512468\n",
      "\n",
      "\n",
      "当 n = 1000 时：\n",
      "x向量的无穷范数为：1.0\n",
      "x向量的1范数为：1.6439345666815601\n",
      "x向量的2范数为：1.0403476502488507\n",
      "y向量的无穷范数为：1000000.0\n",
      "y向量的1范数为：333833500.0\n",
      "y向量的2范数为：14159814.028909419\n",
      "\n",
      "\n",
      "当 n = 10000 时：\n",
      "x向量的无穷范数为：1.0\n",
      "x向量的1范数为：1.6448340718480603\n",
      "x向量的2范数为：1.0403476504086528\n",
      "y向量的无穷范数为：100000000.0\n",
      "y向量的1范数为：333383335000.0\n",
      "y向量的2范数为：4472694974.3229\n",
      "\n",
      "\n"
     ]
    }
   ],
   "source": [
    "# 正式答案Part1\n",
    "import numpy as np\n",
    "import numpy.linalg as LA\n",
    "\n",
    "def vector_norm(n):\n",
    "    origin_vec = np.arange(1, n+1, 1)\n",
    "    x = 1/np.square(origin_vec) #计算各元素的平方\n",
    "    y = np.square(origin_vec)\n",
    "    print('当 n = ' + str(n) + ' 时：')\n",
    "    #print(x)\n",
    "    print('x向量的无穷范数为：' + str(LA.norm(x, ord=np.inf)))  # 无穷范数\n",
    "    print('x向量的1范数为：' + str(LA.norm(x, ord=1)))  # 1范数\n",
    "    print('x向量的2范数为：' + str(LA.norm(x, ord=2)))  # 2范数\n",
    "    #print(y)\n",
    "    print('y向量的无穷范数为：' + str(LA.norm(y, ord=np.inf)))  # 无穷范数\n",
    "    print('y向量的1范数为：' + str(LA.norm(y, ord=1)))  # 1范数\n",
    "    print('y向量的2范数为：' + str(LA.norm(y, ord=2)))  # 2范数\n",
    "    print('\\n')\n",
    "\n",
    "if __name__=='__main__':\n",
    "    vector_norm(100)\n",
    "    vector_norm(1000)\n",
    "    vector_norm(10000)"
   ]
  },
  {
   "cell_type": "raw",
   "metadata": {},
   "source": [
    "由于当n非常大时，x可能会出现大数吃小数的现象使误差增大，而y向量的范数结果较为准确是由于y向量是按从小到大排列。 改进范数计算程序使输入序列按从小到大排列再计算其范数。"
   ]
  },
  {
   "cell_type": "code",
   "execution_count": 2,
   "metadata": {},
   "outputs": [
    {
     "name": "stdout",
     "output_type": "stream",
     "text": [
      "当 n = 100 时：\n",
      "修正后x向量的无穷范数为：1.0\n",
      "修正后x向量的1范数为：1.634983900184893\n",
      "修正后x向量的2范数为：1.0403474925929668\n",
      "y向量的无穷范数为：10000.0\n",
      "y向量的1范数为：338350.0\n",
      "y向量的2范数为：45280.60655512468\n",
      "\n",
      "\n",
      "当 n = 1000 时：\n",
      "修正后x向量的无穷范数为：1.0\n",
      "修正后x向量的1范数为：1.64393456668156\n",
      "修正后x向量的2范数为：1.0403476502488505\n",
      "y向量的无穷范数为：1000000.0\n",
      "y向量的1范数为：333833500.0\n",
      "y向量的2范数为：14159814.028909419\n",
      "\n",
      "\n",
      "当 n = 10000 时：\n",
      "修正后x向量的无穷范数为：1.0\n",
      "修正后x向量的1范数为：1.6448340718480596\n",
      "修正后x向量的2范数为：1.040347650408653\n",
      "y向量的无穷范数为：100000000.0\n",
      "y向量的1范数为：333383335000.0\n",
      "y向量的2范数为：4472694974.3229\n",
      "\n",
      "\n"
     ]
    }
   ],
   "source": [
    "# 正式答案Part2\n",
    "import numpy as np\n",
    "import numpy.linalg as LA\n",
    "\n",
    "def vector_norm_new(n):\n",
    "    origin_vec = np.arange(1, n+1, 1)\n",
    "    # x = 1/(origin_vec)**2\n",
    "    # y = origin_vec ** 2\n",
    "    x = 1/np.square(origin_vec) #计算各元素的平方\n",
    "    x_new = x[::-1] #x倒序输出，避免大数吃小数\n",
    "    y = np.square(origin_vec)\n",
    "    #print(x_new)\n",
    "    print('当 n = ' + str(n) + ' 时：')\n",
    "    print('修正后x向量的无穷范数为：' + str(LA.norm(x_new, ord=np.inf)))  # 无穷范数\n",
    "    print('修正后x向量的1范数为：' + str(LA.norm(x_new, ord=1)))  # 1范数\n",
    "    print('修正后x向量的2范数为：' + str(LA.norm(x_new, ord=2)))  # 2范数\n",
    "    #print(y)\n",
    "    print('y向量的无穷范数为：' + str(LA.norm(y, ord=np.inf)))  # 无穷范数\n",
    "    print('y向量的1范数为：' + str(LA.norm(y, ord=1)))  # 1范数\n",
    "    print('y向量的2范数为：' + str(LA.norm(y, ord=2)))  # 2范数\n",
    "    print('\\n')\n",
    "\n",
    "if __name__=='__main__':\n",
    "    vector_norm_new(100)\n",
    "    vector_norm_new(1000)\n",
    "    vector_norm_new(10000)"
   ]
  },
  {
   "cell_type": "raw",
   "metadata": {},
   "source": [
    "2. 给定多项式，用三种方法求固定区间内的根，多项式求值可以用秦九韶算法，给出三种精度的计算结果。"
   ]
  },
  {
   "cell_type": "code",
   "execution_count": 3,
   "metadata": {},
   "outputs": [
    {
     "name": "stdout",
     "output_type": "stream",
     "text": [
      "精度为5e-05时，牛顿法迭代次数为4次\n",
      "方程的根x*为1.687852461631914\n",
      "f(x*)的值为-2.8134501462773187e-05\n",
      "精度为5e-06时，牛顿法迭代次数为6次\n",
      "方程的根x*为1.7533649114167382\n",
      "f(x*)的值为-3.3767138347684522e-06\n",
      "精度为5e-07时，牛顿法迭代次数为8次\n",
      "方程的根x*为1.8051277674800874\n",
      "f(x*)的值为-4.0527470446249936e-07\n"
     ]
    }
   ],
   "source": [
    "# 正式答案Part1\n",
    "import numpy as np\n",
    "from math import*\n",
    "\n",
    "# 秦九韶算法函数\n",
    "def QinJiuShao(a, x):\n",
    "    # a是多项式系数数组，顺序为x次数增大\n",
    "    n = len(a) - 1\n",
    "    s = [i for i in range(len(a))]\n",
    "    s[n] = a[n]\n",
    "    while n >= 1:\n",
    "        s[n-1] = s[n] * x + a[n-1]\n",
    "        n -= 1\n",
    "    return s[0]\n",
    "\n",
    "# 牛顿迭代法求根\n",
    "def Newton(eps):\n",
    "    a1 = [-512, 2304, -4608, 5376, -4032, 2016, -672, 144, -18, 1]\n",
    "    a2 = [2304, -9216, 16128, -16128, 10080, -4032, 1008, -144, 9]\n",
    "    x=[]\n",
    "    x.append(1.5)\n",
    "    err = abs(QinJiuShao(a1,x[-1])) #最新加的x在最后\n",
    "    number_iteration=0\n",
    "    while err>eps:\n",
    "        x.append(x[-1]-QinJiuShao(a1, x[-1])/QinJiuShao(a2, x[-1]))  #x k+1\n",
    "        err=abs(QinJiuShao(a1, x[-1]))\n",
    "        number_iteration=number_iteration+1\n",
    "    print('精度为%s时，牛顿法迭代次数为%d次'%(eps, number_iteration)) #格式化输出\n",
    "    print('方程的根x*为%s'%(x[-1]))\n",
    "    print('f(x*)的值为%s'%(QinJiuShao(a1, x[-1])))\n",
    "Newton(5e-5)\n",
    "Newton(5e-6)\n",
    "Newton(5e-7)"
   ]
  },
  {
   "cell_type": "code",
   "execution_count": 4,
   "metadata": {},
   "outputs": [
    {
     "name": "stdout",
     "output_type": "stream",
     "text": [
      "精度为5e-05时，牛顿下山法迭代次数为4次\n",
      "方程的根x*为 1.687852461631914\n",
      "f(x*)的值为 2.8134501462773187e-05\n",
      "精度为5e-06时，牛顿下山法迭代次数为6次\n",
      "方程的根x*为 1.7533649114167382\n",
      "f(x*)的值为 3.3767138347684522e-06\n",
      "精度为5e-07时，牛顿下山法迭代次数为8次\n",
      "方程的根x*为 1.8051277674800874\n",
      "f(x*)的值为 4.0527470446249936e-07\n"
     ]
    }
   ],
   "source": [
    "# 正式答案Part2\n",
    "# 牛顿下山法求根\n",
    "def NewtonDown(eps):\n",
    "    x=[]\n",
    "    x.append(1.5)#初始值\n",
    "    a1 = [-512, 2304, -4608, 5376, -4032, 2016, -672, 144, -18, 1]\n",
    "    a2 = [2304, -9216, 16128, -16128, 10080, -4032, 1008, -144, 9]\n",
    "    fx=abs(QinJiuShao(a1, x[-1]))\n",
    "    number_iteration=0\n",
    "    F=[]\n",
    "    F.append(fx)\n",
    "    L=[]\n",
    "    df=QinJiuShao(a1, x[-1])/QinJiuShao(a2, x[-1])\n",
    "    while fx>eps:  #与误差值比较\n",
    "        lambd=1\n",
    "        df=QinJiuShao(a1, x[-1])/QinJiuShao(a2, x[-1])\n",
    "        x1=x[-1]-lambd*df\n",
    "        fx=abs(QinJiuShao(a1, x1))\n",
    "        number_iteration=number_iteration+1#叠加次数\n",
    "        while fx>=F[-1]:    #与上一个比较\n",
    "            lambd=lambd/2\n",
    "            x1=x[-1]-lambd*df  #x k+1\n",
    "            fx=abs(QinJiuShao(a1, x1))\n",
    "            number_iteration=number_iteration+1\n",
    "        F.append(fx)\n",
    "        x.append(x1)\n",
    "        L.append(lambd)\n",
    "    print('精度为%s时，牛顿下山法迭代次数为%d次'%(eps, number_iteration))\n",
    "    print('方程的根x*为', x[-1])\n",
    "    print('f(x*)的值为', F[-1])\n",
    "NewtonDown(5e-5)\n",
    "NewtonDown(5e-6)\n",
    "NewtonDown(5e-7)"
   ]
  },
  {
   "cell_type": "code",
   "execution_count": 5,
   "metadata": {},
   "outputs": [
    {
     "name": "stdout",
     "output_type": "stream",
     "text": [
      "2.0\n",
      "1\n"
     ]
    }
   ],
   "source": [
    "# 正式答案Part3\n",
    "#二分法求根\n",
    "left=1.5\n",
    "right=2.5\n",
    "eps=5e-5\n",
    "number_iteration=0\n",
    "a=[-512, 2304, -4608, 5376, -4032, 2016, -672, 144, -18, 1]\n",
    "f_left=QinJiuShao(a,left)\n",
    "x=(left+right)/2\n",
    "f=QinJiuShao(a,x)\n",
    "while right-left>eps:\n",
    "    if f*f_left>0:\n",
    "        left=x\n",
    "        x=(left+right)/2\n",
    "        number_iteration=number_iteration+1\n",
    "    elif f*f_left<0:\n",
    "        right=x\n",
    "        x=(left+right)/2\n",
    "        number_iteration=number_iteration+1\n",
    "    else:\n",
    "        number_iteration=number_iteration+1\n",
    "        break\n",
    "print(x)\n",
    "print(number_iteration)"
   ]
  },
  {
   "cell_type": "raw",
   "metadata": {},
   "source": [
    "3. 编制LU和PLU分解的通用程序，完成下面两个问题：\n",
    "（1）对不同的n计算并与精确解比较\n",
    "（2）对不同的n求逆"
   ]
  },
  {
   "cell_type": "code",
   "execution_count": 6,
   "metadata": {},
   "outputs": [
    {
     "data": {
      "text/plain": [
       "(array([[1., 0., 0., 0.],\n",
       "        [2., 1., 0., 0.],\n",
       "        [4., 3., 1., 0.],\n",
       "        [3., 4., 1., 1.]]),\n",
       " array([[2., 1., 1., 0.],\n",
       "        [0., 1., 1., 1.],\n",
       "        [0., 0., 2., 2.],\n",
       "        [0., 0., 0., 2.]]))"
      ]
     },
     "execution_count": 6,
     "metadata": {},
     "output_type": "execute_result"
    }
   ],
   "source": [
    "# LU分解法通用程序\n",
    "from numpy import *\n",
    "\n",
    "def lu_decomp(A):\n",
    "    m,n = A.shape\n",
    "    if m != n:\n",
    "        return\n",
    "    temp_A = A.copy()\n",
    "    L = eye(n)\n",
    "    U = zeros((m,n))\n",
    "    for k in range(0,n-1):\n",
    "        for i in range(k+1,n):\n",
    "            if abs(temp_A[i,k]) > 1.0e-9:\n",
    "                lam = temp_A[i,k] / temp_A[k,k]\n",
    "                temp_A[i,k+1:n] = temp_A[i,k+1:n] - lam * temp_A[k,k+1:n]\n",
    "                temp_A[i,k] = 0\n",
    "                L[i,k] = lam\n",
    "    U[:n,:n] = temp_A[:n,:n]\n",
    "    return L,U\n",
    "A = array([[2,1,1,0],[4,3,3,1],[8,7,9,5],[6,7,9,8]])\n",
    "lu_decomp(A)"
   ]
  },
  {
   "cell_type": "code",
   "execution_count": 7,
   "metadata": {},
   "outputs": [
    {
     "name": "stdout",
     "output_type": "stream",
     "text": [
      "0\n",
      "[[1.  0.  0.  0. ]\n",
      " [0.5 1.  0.  0. ]\n",
      " [0.  0.  1.  0. ]\n",
      " [0.  0.  0.  1. ]]\n",
      "[[1.   0.   0.   0.  ]\n",
      " [0.5  1.   0.   0.  ]\n",
      " [0.25 0.   1.   0.  ]\n",
      " [0.   0.   0.   1.  ]]\n",
      "[[1.   0.   0.   0.  ]\n",
      " [0.5  1.   0.   0.  ]\n",
      " [0.25 0.   1.   0.  ]\n",
      " [0.75 0.   0.   1.  ]]\n",
      "1\n",
      "[[ 1.          0.          0.          0.        ]\n",
      " [ 0.5         1.          0.          0.        ]\n",
      " [ 0.25       -0.42857143  1.          0.        ]\n",
      " [ 0.75        0.          0.          1.        ]]\n",
      "[[ 1.          0.          0.          0.        ]\n",
      " [ 0.5         1.          0.          0.        ]\n",
      " [ 0.25       -0.42857143  1.          0.        ]\n",
      " [ 0.75       -0.28571429  0.          1.        ]]\n",
      "2\n",
      "[[ 1.          0.          0.          0.        ]\n",
      " [ 0.5         1.          0.          0.        ]\n",
      " [ 0.25       -0.42857143  1.          0.        ]\n",
      " [ 0.75       -0.28571429  0.33333333  1.        ]]\n"
     ]
    },
    {
     "data": {
      "text/plain": [
       "(array([[0., 0., 1., 0.],\n",
       "        [0., 0., 0., 1.],\n",
       "        [0., 1., 0., 0.],\n",
       "        [1., 0., 0., 0.]]),\n",
       " array([[ 1.        ,  0.        ,  0.        ,  0.        ],\n",
       "        [ 0.5       ,  1.        ,  0.        ,  0.        ],\n",
       "        [ 0.25      , -0.42857143,  1.        ,  0.        ],\n",
       "        [ 0.75      , -0.28571429,  0.33333333,  1.        ]]),\n",
       " array([[ 8.        ,  7.        ,  9.        ,  5.        ],\n",
       "        [ 0.        ,  1.75      ,  2.25      ,  4.25      ],\n",
       "        [ 0.        ,  0.        , -0.85714286, -0.28571429],\n",
       "        [ 0.        ,  0.        ,  0.        ,  0.66666667]]))"
      ]
     },
     "execution_count": 7,
     "metadata": {},
     "output_type": "execute_result"
    }
   ],
   "source": [
    "# PLU分解法通用程序，目前L的计算有问题，待修改\n",
    "def plu_decomp(A):\n",
    "    m,n = A.shape\n",
    "    if m != n:\n",
    "        return\n",
    "    temp_A = A.copy()\n",
    "    L = eye(n)\n",
    "    P = eye(n)\n",
    "    U = zeros((m,n))\n",
    "    index = [i for i in range(n-1)]\n",
    "    for k in range(0,n-1):\n",
    "        print(k)\n",
    "        index_k = argmax(abs(temp_A[k:n,k]))+k\n",
    "        if(index_k != k):\n",
    "            for j in range(n):\n",
    "                temp_A[index_k,j],temp_A[k,j] = temp_A[k,j],temp_A[index_k,j]\n",
    "                P[index_k,j],P[k,j] = P[k,j],P[index_k,j]\n",
    "                #if k+1<n:\n",
    "                #    L[index_k+1,j],L[k+1,j] = L[k+1,j],L[index_k+1,j]\n",
    "                temp_A[index[k],j],temp_A[k,j] = temp_A[k,j],temp_A[index[k],j]\n",
    "                P[index[k],j],P[k,j] = P[k,j],P[index[k],j]\n",
    "                #print(temp_A)\n",
    "        for i in range(k+1,n):\n",
    "            if abs(temp_A[i,k]) > 1.0e-9:\n",
    "                lam = temp_A[i,k] / temp_A[k,k]\n",
    "                temp_A[i,k:n] = temp_A[i,k:n] - lam * temp_A[k,k:n]\n",
    "                #print(lam)\n",
    "                #print(temp_A)\n",
    "                #temp_A[i,k+1:n] = temp_A[i,k+1:n] - lam * temp_A[k,k+1:n]\n",
    "                #temp_A[i,k] = 0\n",
    "                L[i,k] = lam\n",
    "                print(L)\n",
    "        U[k:n,k:n] = temp_A[k:n,k:n]\n",
    "    return P,L,U\n",
    "A = array([[2.,1.,1.,0.],[4.,3.,3.,1.],[8.,7.,9.,5.],[6.,7.,9.,8.]])#结果正确\n",
    "#A = array([[0.,-6.,-1.],[1.,2.,2.],[2.,-2.,1.]])\n",
    "plu_decomp(A)"
   ]
  }
 ],
 "metadata": {
  "kernelspec": {
   "display_name": "Python 3",
   "language": "python",
   "name": "python3"
  },
  "language_info": {
   "codemirror_mode": {
    "name": "ipython",
    "version": 3
   },
   "file_extension": ".py",
   "mimetype": "text/x-python",
   "name": "python",
   "nbconvert_exporter": "python",
   "pygments_lexer": "ipython3",
   "version": "3.7.6"
  }
 },
 "nbformat": 4,
 "nbformat_minor": 4
}
